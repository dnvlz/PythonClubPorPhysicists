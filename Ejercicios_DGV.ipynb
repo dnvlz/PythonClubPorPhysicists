{
  "cells": [
    {
      "cell_type": "markdown",
      "metadata": {
        "_uuid": "1752ce061957fd1ce93d2e4db9494b7b29da7935",
        "id": "4skdndoa-7GI"
      },
      "source": [
        "<center>\n",
        "\n",
        "\n",
        "<img src=\"https://habrastorage.org/webt/jq/gc/r5/jqgcr5azmatev6zvgufn8xftehy.png\">\n",
        "    \n",
        "#  **II Escuela de Verano en Física Computacional**\n",
        "\n",
        "Este material está sujeto a los términos y condiciones de la licencia [Creative Commons CC BY-NC-SA 4.0](https://creativecommons.org/licenses/by-nc-sa/4.0/). Se permite el uso gratuito para cualquier propósito no comercial.\n",
        "\n",
        "*También puede consultar la última versión de este notebook en nuestro [repositorio](https://github.com/PCPUNMSM) y los videos de clase [en nuestro canal de Youtube](https://www.youtube.com/channel/UCze8vzQLcplutz0nWDNjFCA).*\n",
        "    "
      ]
    },
    {
      "cell_type": "markdown",
      "metadata": {
        "_uuid": "9b690f2c8129ad9445c544337375b93246c26668",
        "id": "Vm9O4SUd-7GJ"
      },
      "source": [
        "# <center> Lista de Ejercicios\n",
        "\n"
      ]
    },
    {
      "cell_type": "markdown",
      "metadata": {
        "id": "8c9en3VuOmmu"
      },
      "source": [
        "\n",
        "### Problema 1:  Raíces de ecuaciones\n",
        "\n"
      ]
    },
    {
      "cell_type": "markdown",
      "metadata": {
        "id": "_SXtYxOtOmmu"
      },
      "source": [
        "La siguiente fórmula nos describe la velocidad ascendente v de un cohete:\n",
        "\n",
        "$$v(t)=uln\\left(\\frac{m}{m-qt}\\right)-gt$$\n",
        "\n",
        "Donde:\n",
        "\n",
        "* u = módulo de la velocidad del combustible expulsado en relación con el cohete\n",
        "\n",
        "* m = masa inicial del cohete (en t=0)\n",
        "\n",
        "* g = módulo aceleración de la gravedad\n",
        "\n",
        "* t = tiempo\n"
      ]
    },
    {
      "cell_type": "markdown",
      "metadata": {
        "id": "uXLZje3vOmmv"
      },
      "source": [
        "Dado:\n",
        "\n",
        "$$u= 950m/s,\\quad m=2x10^5 kg, \\quad q=3x10^3 kg/s, \\quad g=9.8m/s^2, \\quad t \\in [10,25]$$"
      ]
    },
    {
      "cell_type": "markdown",
      "metadata": {
        "id": "kZtj6q2fOmmv"
      },
      "source": [
        "a) Defina y utilice 3 métodos para hallar el tiempo que tarda el cohete en alcanzar la velocidad de 500 m/s.\n",
        "\n",
        "b) Resuelva analíticamente y compare resultados con los 3 métodos utilizados.\n",
        "\n",
        "c) Elabore gráficas y detalle su análisis."
      ]
    },
    {
      "cell_type": "code",
      "execution_count": 1,
      "metadata": {
        "colab": {
          "base_uri": "https://localhost:8080/",
          "height": 349
        },
        "id": "RgHjhJJrOmmv",
        "outputId": "80f60186-ea90-483b-fff4-a8a71767768d"
      },
      "outputs": [
        {
          "data": {
            "image/png": "[encoded data removed]",
            "text/plain": [
              "<Figure size 432x288 with 1 Axes>"
            ]
          },
          "metadata": {
            "needs_background": "light"
          },
          "output_type": "display_data"
        },
        {
          "name": "stdout",
          "output_type": "stream",
          "text": [
            "Según método de Newton, el cohete alcanza la velocidad de 500m/s en el tiempo 40.81587186850039s\n",
            "Según método secante, el cohete alcanza la velocidad de 500m/s en el tiempo 40.81587186850038s\n",
            "Según método de bisección, el cohete alcanza la velocidad de 500m/s en el tiempo 40.81587186845354s\n"
          ]
        }
      ],
      "source": [
        "import numpy as np\n",
        "import matplotlib.pyplot as plt\n",
        "\n",
        "u = 950 #m/s\n",
        "m = 2E5 #kg\n",
        "q = 3E3 #kg/s\n",
        "g = 9.8 #m/s^2\n",
        "\n",
        "def v(t):\n",
        "    return  u*np.log(m/(m-q*t))-g*t\n",
        "\n",
        "def f(t):\n",
        "    # esta es la función v(t)-500, porque queremos encontrar la raíz, i.e. el tiempo t* tal que v(t*)-500=0 o bien\n",
        "    # v(t*)=500.\n",
        "    return v(t)-500\n",
        "#graficamos y notamos que la raíz está aproximadamente en t=40\n",
        "\n",
        "t_plot = np.linspace(20,50,500)\n",
        "plt.plot(t_plot,v(t_plot))\n",
        "plt.grid(True)\n",
        "plt.title('Velocidad de un cohete')\n",
        "plt.xlabel('Tiempo (s)')\n",
        "plt.ylabel('Velocidad (m/s)')\n",
        "plt.show()\n",
        "\n",
        "\n",
        "def dfdt(t):\n",
        "    h = 1E-5\n",
        "    return (f(t+h/2)-f(t-h/2))/h #diferencia central\n",
        "\n",
        "# Cuando se alcance la precisión, los programas se detienen\n",
        "accuracy = 1E-10\n",
        "\n",
        "# Método de Newton\n",
        "def newton_method(t):\n",
        "    delta = 1.0\n",
        "    while abs(delta) > accuracy:\n",
        "        delta = f(t)/dfdt(t)\n",
        "        t -= delta\n",
        "    return t\n",
        "\n",
        "t_newton = newton_method(40)\n",
        "print(f\"Según método de Newton, el cohete alcanza la velocidad de 500m/s en el tiempo {t_newton}s\")\n",
        "\n",
        "#método secante\n",
        "def secant_method(t,t0):\n",
        "    delta = 1.0\n",
        "    while abs(delta) > accuracy:\n",
        "        dfdt = (f(t)-f(t0))/(t-t0)\n",
        "        delta = f(t)/dfdt\n",
        "        t0 = t\n",
        "        t -= delta\n",
        "    return t\n",
        "\n",
        "t_secant = secant_method(30,60)\n",
        "print(f\"Según método secante, el cohete alcanza la velocidad de 500m/s en el tiempo {t_secant}s\")\n",
        "\n",
        "\n",
        "# bisección\n",
        "def biseccion(f, t1,t2,accuracy): #f(t1) y f(t2) deben tener signos distintos\n",
        "    while abs(t1-t2) > accuracy:\n",
        "        t = (t1+t2)/2\n",
        "        if np.sign(f(t))==np.sign(f(t1)):\n",
        "            t1 = t\n",
        "        elif np.sign(f(t))==np.sign(f(t2)):\n",
        "            t2 = t\n",
        "    return t\n",
        "\n",
        "t_bisec = biseccion(f,30,60,accuracy)\n",
        "print(f\"Según método de bisección, el cohete alcanza la velocidad de 500m/s en el tiempo {t_bisec}s\")\n",
        "\n",
        "## Analíticamente, de acuerdo con Mathematica, el resultado es t=40.8159 s, de manera que las soluciones aquí dadas se aproximan bastante.\n",
        "## Hacer el valor de la precisión (accuracy) más pequeño puede ayudar a encontrar soluciones más cercanas, aunque estas son bastante buenas.\n"
      ]
    },
    {
      "cell_type": "markdown",
      "metadata": {
        "id": "tXH6PyZ32A_n"
      },
      "source": [
        "Me tomé la libertad de escribir mis propios programas (con ayuda del libro de Mark Newman \"Computational Physics\") para practicar un poco e investigar más a fondo las ventajas y desventajas de cada uno de estos métodos.\n",
        "\n",
        "Analíticamente, de acuerdo con Mathematica, el resultado es $t=40.8159 s$, de manera que las soluciones aquí dadas se aproximan bastante.\n",
        "Hacer el valor de la precisión (accuracy) más pequeño puede ayudar a encontrar soluciones más cercanas, aunque estas son bastante buenas.\n",
        "Lo que hicimos fue definir la función $f(t)=v(t)-500$ y hallar la raíz mínimo, ya que esto da el tiempo $t_0$ tal que $f(t_0)=v(t_0)-500=0$, o bien, $v(t_0)=500$, que es lo que queremos (ignoro unidades por simplicidad).\n",
        "\n",
        "El método de bisección (o búsqueda binaria), aquí utilizado, es un método robusto. Uno específica un intervalo en el que desea encontrar la solución a una ecuación. En este caso tuvimos que graficar para saber grosso modo en qué región se encuentra dicha solución. Supongámos que nuestros puntos iniciales $t_1$ y $t_2$ se encuentran a una distancia $\\delta$; la distancia se disminuye a la mitad a cada paso de la búsqueda binaria, por lo que después de $N$ pasos, la distancia es $\\delta/2^N$. Si tenemos, por ejemplo, puntos a una distancia inicial de $\\delta=10^{10}$ con una precisión de $10^{-10}$, el número de pasos necesario para encontrar la raíz es $67$, que no requiere mucho tiempo de cómputo. Este método tiene sus desventajas, por ejemplo, si entre los puntos iniciales hay un número par de raíces. Por otro lado, a veces no es posible graficar para buscar un punto que a grosso modo sea cercano a la solución.\n",
        "\n",
        "El método de Newton requiere un solo valor inicial. Basado en este valor, usa la pendiente en esa posición para extrapolar y hallar un segundo punto que usualmente será más cercano a la solución que el primero (si uno tiene mala suerte, puede que sea más lejano). El método de Newton tiene converfencia cuadrática, lo que implica que converge extremadamente rápido. Las desventajas son que requiere que conozcamos la derivada de la función (podemos usar derivación numérica) y que no siempre converge (esto depende del valor de la derivada).\n",
        "\n",
        "El método de la secante arregla algunos problemas que se tienen en el de Newton, pues si no conocemos la derivada simplemente podemos calcularla numéricamente usando la secante (diferencia finita) en lugar de la tangente (derivada). Son formas similares; el método de la secante también converge con rapidez y tiene las mismas desventajas. También puede generalizarse a la solución de ecuaciones simultáneas no lineales, aunque la generalización puede ser complicada."
      ]
    },
    {
      "cell_type": "markdown",
      "metadata": {
        "id": "B5oZylATOmmw"
      },
      "source": [
        "### Problema 2: Interpolación"
      ]
    },
    {
      "cell_type": "markdown",
      "metadata": {
        "id": "9DnOghRsOmmw"
      },
      "source": [
        "Dadas las funciones:\n",
        "\n",
        "1. $f (x) = sin(x^2) $\n",
        "\n",
        "2. $f (x) = e^{sin (x)}$\n",
        "\n",
        "3. $f (x) = \\frac{0.2}{(x-3.2)^2 + 0.04}$\n",
        "\n",
        "a) Estudiar el error en dos métodos de interpolación (de su elección) con 10,20 y 50 datos (uniformemente distribuidos) en el intervalo [0.0, 5.0] y compare los resultados.\n",
        "\n",
        "b) Hallar los órdenes de convergencia, elabore su gráfico con el eje x en base 2 y detallar su análisis.\n",
        "\n",
        "c) Añade una perturbación sinusoidal ($\\delta g(x)=sin(x)$) del orden de $10^{-4},10^{-5}, 10^{-6}$ con distribución homogénea, grafice y detalle su análisis, ¿cuál es el error que generan con respecto a aproximación hecha en \"2.a)\"?"
      ]
    },
    {
      "cell_type": "code",
      "execution_count": 2,
      "metadata": {
        "id": "VIAJguU-Ommx"
      },
      "outputs": [],
      "source": [
        "# import numpy as np\n",
        "# import numpy.polynomial.polynomial as poly\n",
        "# import matplotlib.pyplot as plt\n",
        "# import sympy as sym\n",
        "\n",
        "# # Interpolacion de Lagrange\n",
        "# def f1(x):\n",
        "#   return np.sin(x**2)\n",
        "\n",
        "# def f2(x):\n",
        "#   return np.exp(np.sin(x))\n",
        "\n",
        "# def f3(x):\n",
        "#   return 0.2/((x-3.2)**2+0.04)\n",
        "\n",
        "# def lagrange(f,n):\n",
        "#   # n es número de puntos y f la función\n",
        "#   xi = np.linspace(0.0,5.0,n)\n",
        "#   fi = f(xi)\n",
        "#   # PROCEDIMIENTO\n",
        "\n",
        "#   n = len(xi)\n",
        "#   x = sym.Symbol('x') #variable simbólica\n",
        "#   polinomio = 0\n",
        "#   divisorL = np.zeros(n, dtype = float)\n",
        "\n",
        "#   for i in range(0,n,1):\n",
        "#       # Termino de Lagrange\n",
        "#       numerador = 1\n",
        "#       denominador = 1\n",
        "#       for j  in range(0,n,1):\n",
        "#           if (j!=i):\n",
        "#               numerador = numerador*(x-xi[j])\n",
        "#               denominador = denominador*(xi[i]-xi[j])\n",
        "#       terminoLi = numerador/denominador\n",
        "\n",
        "#       polinomio = polinomio + terminoLi*fi[i]\n",
        "#       divisorL[i] = denominador\n",
        "\n",
        "#   # simplifica el polinomio\n",
        "#   #Dado un polinomio, expand() lo pondrá en una forma canónica de una suma de monomios.\n",
        "#   polisimple = polinomio.expand()\n",
        "\n",
        "#   # para evaluación numérica\n",
        "#   px = sym.lambdify(x,polisimple)\n",
        "\n",
        "#   # Puntos para la gráfica\n",
        "#   muestras = 101\n",
        "#   a = np.min(xi)\n",
        "#   b = np.max(xi)\n",
        "#   pxi = np.linspace(a,b,muestras)\n",
        "#   pfi = px(pxi)\n",
        "\n",
        "#   # SALIDA\n",
        "#   print(f'Polinomio de Lagrange para función {f.__name__} con {n} datos: ') \n",
        "#   print(polisimple)\n",
        "\n",
        "#   # Gráfica\n",
        "#   plt.plot(xi,fi,'o', label = 'Puntos')\n",
        "#   plt.plot(pxi,pfi, label = 'Polinomio')\n",
        "#   plt.legend()\n",
        "#   plt.xlabel('xi')\n",
        "#   plt.ylabel('fi')\n",
        "#   plt.grid()\n",
        "#   plt.title('Interpolación Lagrange')\n",
        "#   plt.show()\n",
        "\n",
        "# for n in [10,20,50]:\n",
        "#   for func in [f1,f2,f3]:\n",
        "#     lagrange(func,n)"
      ]
    },
    {
      "cell_type": "markdown",
      "metadata": {
        "id": "CPiet4s9Ommx"
      },
      "source": [
        "### Problema 3: Derivación numérica"
      ]
    },
    {
      "cell_type": "markdown",
      "metadata": {
        "id": "0XsAD08oOmmy"
      },
      "source": [
        "En 1928, George Gamow propuso una teoría muy exitosa del decaímiento $\\alpha$, según la cual la partícula $α$ se mueve libremente dentro del núcleo y se emite después de atravesar la barrera potencial entre ella y el núcleo hijo. En otras palabras, la partícula $α$, de carga $Z_2$, cuya energía es $E$, está atrapada en un pozo potencial de radio R por la barrera potencial:\n",
        "\n",
        "$$V(r)=\\frac{Z_1Z_2e^2}{4\\pi\\epsilon_0 r}$$\n",
        "\n",
        "para $r>R$.\n",
        "\n",
        "$Z_1 =Z-2, \\quad Z_2=2$, donde Z es la carga del núcleo de radio R.\n",
        "\n",
        "$r$: es el radio fuera del núcleo ($r>R$ y con A, número de masa) donde:\n",
        "\n",
        "$$R = 1.5\\times 10^{-15}\\,A^{1/3}\\,{\\rm m}=2.0\\times 10^{-15}\\,Z_1^{\\,1/3}\\,{\\rm m}$$"
      ]
    },
    {
      "cell_type": "markdown",
      "metadata": {
        "id": "yLRW88_oOmmy"
      },
      "source": [
        "a) Calcule la fuerza que experimenta la partícula y analice $\\alpha$ para $r\\in [R,3R]$, utilizando los tres esquemas de diferencias finitas.\n",
        "\n",
        "b) Comparar los esquemas con la solución analítica, calcular los errores, órdenes de convergencia y detallar su análisis."
      ]
    },
    {
      "cell_type": "code",
      "execution_count": 3,
      "metadata": {
        "colab": {
          "base_uri": "https://localhost:8080/",
          "height": 855
        },
        "id": "g4rSazy2Ommy",
        "outputId": "ad9a580d-4bd0-4cfb-b71d-7b076d7e3413"
      },
      "outputs": [
        {
          "data": {
            "image/png": "[encoded data removed]",
            "text/plain": [
              "<Figure size 432x288 with 1 Axes>"
            ]
          },
          "metadata": {
            "needs_background": "light"
          },
          "output_type": "display_data"
        },
        {
          "data": {
            "image/png": "[encoded data removed]",
            "text/plain": [
              "<Figure size 432x288 with 1 Axes>"
            ]
          },
          "metadata": {
            "needs_background": "light"
          },
          "output_type": "display_data"
        },
        {
          "data": {
            "image/png": "[encoded data removed]",
            "text/plain": [
              "<Figure size 432x288 with 1 Axes>"
            ]
          },
          "metadata": {
            "needs_background": "light"
          },
          "output_type": "display_data"
        }
      ],
      "source": [
        "import numpy as np\n",
        "import matplotlib.pyplot as plt\n",
        "\n",
        "# Sistema internacional\n",
        "epsilon0 = 8.85418782E-12\n",
        "e = 1.60217662E-19\n",
        "\n",
        "Z = 20 # Número de protones\n",
        "Z2 = 2\n",
        "Z1 = Z-2\n",
        "R = 2E-15*Z1**(1/3)\n",
        "N = 2\n",
        "h0 = R*1*10**(-N)\n",
        "# Este valor de h0 quiere decir que por cada valor de r,\n",
        "# para evaluar la derivada estudiaremos dicho valor +\n",
        "# 1/10^n del valor de R\n",
        "\n",
        "def V(r):\n",
        "    return Z1*Z2*e**2/(4*np.pi*epsilon0*r)\n",
        "\n",
        "def derivative(f,a,method='centrada',h=h0):\n",
        "    if method == 'centrada':\n",
        "        return (f(a + h) - f(a - h))/(2*h)\n",
        "    elif method == 'adelante':\n",
        "        return (f(a + h) - f(a))/h\n",
        "    elif method == 'atrás':\n",
        "        return (f(a) - f(a - h))/h \n",
        "    else:\n",
        "        raise ValueError(\"Los métodos pueden ser 'centrada', 'adelante' o 'atrás'.\")\n",
        "\n",
        "# Derivada analítica de potencial V para calcular los errores\n",
        "def DV(r):\n",
        "    return -Z1*Z2*e**2/(4*np.pi*epsilon0*r**2)\n",
        "\n",
        "# Nuestro dominio va de R a 3R\n",
        "r = np.linspace(R,3*R,100)\n",
        "DV_c = derivative(V,r)\n",
        "DV_ad = derivative(V,r,method='adelante')\n",
        "DV_at = derivative(V,r,method='atrás')\n",
        "\n",
        "plt.plot(r,DV_c) \n",
        "plt.plot(r,DV_ad)\n",
        "plt.plot(r,DV_at)\n",
        "plt.plot(r,DV(r)) \n",
        "plt.legend(['DF centrada','DF hacia adelante','DF hacia atrás','Analítica'])\n",
        "plt.title('Modelo de Gamow')\n",
        "plt.ylabel('Fuerza')\n",
        "plt.xlabel('Distancia')\n",
        "plt.grid()\n",
        "plt.show()\n",
        "\n",
        "# Calculamos errores comparando derivada real y derivadas numéricas\n",
        "c_err = DV(r)-DV_c\n",
        "ad_err = DV(r)-DV_ad\n",
        "at_err = DV(r)-DV_at\n",
        "\n",
        "plt.plot(r,c_err) \n",
        "plt.plot(r,ad_err)\n",
        "plt.plot(r,at_err)\n",
        "plt.legend(['DF centrada','DF hacia adelante','DF hacia atrás'])\n",
        "plt.title('Errores de truncamiento para distintas DFs')\n",
        "plt.ylabel('$O(h^2)$')\n",
        "plt.xlabel('θ')\n",
        "plt.grid()\n",
        "plt.show()\n",
        "\n",
        "\n",
        "h_l=[] #lista de tamaños de pasos\n",
        "errc_l=[] \n",
        "errad_l=[]\n",
        "errat_l=[]\n",
        "for i in range(10,10000,100):\n",
        "  a = R\n",
        "  b = 3*R \n",
        "  h = 1/i*R #tamaño del paso \n",
        "  N = round((b-a)/h) #redondear el resultado, el cual será la cantidad de datos\n",
        "  r = np.linspace(a,b,N)\n",
        "  DV_c=derivative(V,r, h=h)\n",
        "  DV_ad=derivative(V,r, h=h,method='adelante')\n",
        "  DV_at=derivative(V,r, h=h,method='atrás')\n",
        "  #tomamos los máximos errores máximos por iteración sobre el dominio [a,b] \n",
        "  c_err=np.max(np.abs(DV(r)-DV_c))\n",
        "  ad_err=np.max(np.abs(DV(r)-DV_ad))\n",
        "  at_err=np.max(np.abs(DV(r)-DV_at))\n",
        "\n",
        "  errc_l.append(c_err)\n",
        "  errad_l.append(ad_err)\n",
        "  errat_l.append(at_err)\n",
        "  h_l.append(h)\n",
        "\n",
        "plt.loglog(h_l,errc_l)\n",
        "plt.loglog(h_l,errad_l)\n",
        "plt.loglog(h_l,errat_l)\n",
        "\n",
        "plt.legend(['DF centrada','DF hacia adelante','DF hacia atrás'])\n",
        "plt.title('log(Error absoluto) vs log(tamaño de paso)')\n",
        "plt.xlabel('log(h)')\n",
        "plt.ylabel('$log(e_{abs})$')\n",
        "plt.grid(True, which=\"both\", ls=\"-\")\n",
        "plt.show()"
      ]
    },
    {
      "cell_type": "markdown",
      "metadata": {
        "id": "gGkoo_Go0vYI"
      },
      "source": [
        "La diferencia central es similar a la diferencia hacia atrás y hacia adelante salvo por el hecho de que los dos puntos están posicionados simétricamente alrededor del valor del cual queremos conocer la derivada. El método de derivada central es tanto más adecuado. Por ejemplo, si $f(x)$ y $f'''(x)$ son del orden de la unidad, el valor ideal de $h$ será típicamente de $10^{-5}$, pero el error mismo será del orden de $10^{-10}$, bastante bueno para la mayoría de nuestros propósitos. Este comportamiento se observa en las gráficas: para el mismo valor de $h$ los órdenes de convergencia para la diferencia hacia atrás y hacia adelante son prácticamente iguales, pero para la diferencia central es, en el peor de los casos, un par de órdenes de magnitud mejor. Claro que una aproximación a orden superior en Taylor daría mejores resultados, pero ya que buscamos un balance entre precisión y tiempo de cómputo, una diferencia central es el mejor acercamiento a este orden. Es evidente que cuando $h$ es grande, ambos métodos fallarán bastante. Lo importante es notar cómo la diferencia central es una mejor elección independientemente del valor de $h$. En la gráfica de los errores de truncamiento observamos que para valores grandes de $r$ los tres métodos son buenos; sin embargo, cuando $r$ es cercano a $R$, los métodos de diferencia hacia atrás y hacia adelante muestran errores de orden cuadrático relativamente grandes. Esto puede ser más evidente en otras funciones y, como se ve en este caso, principalmente cerca de divergencias."
      ]
    },
    {
      "cell_type": "markdown",
      "metadata": {
        "id": "ZSeLKbwTOmmz"
      },
      "source": [
        "### Problema 4: Integración numérica"
      ]
    },
    {
      "cell_type": "markdown",
      "metadata": {
        "id": "a5xZrZd5Ommz"
      },
      "source": [
        "La carga a partir de la densidad radial de carga lineal, $\\lambda$, sobre el área de la sección transversal del cilindro, está definida por:\n",
        "\n",
        "$$q_{total}=\\int_A \\lambda(r)dA(r)$$\n",
        "\n",
        "donde, dA es el diferencial de área de la base del cilindro:\n",
        "\n",
        "$$q_{total}=\\int_A \\lambda(r)(2\\pi r dr)$$\n",
        "\n",
        "Sabemos que la densidad tiene la forma:\n",
        "\n",
        "$$\\lambda(r)=\\lambda_0 \\left(1-\\frac{r^2}{a^2} \\right)$$\n",
        "\n",
        "Y el campo eléctrico:\n",
        "\n",
        "$$\\vec{E}=\\frac{kq_{total}}{d^2}\\hat r$$\n",
        "\n",
        "d: distancia de la superficie al espacio a evaluar el campo eléctrico. ($d\\gt r$)\n",
        "\n",
        "\n",
        "a) Determina la distribución de la carga y campo eléctrico (a distancias $d \\in \\{ r+r/4,r+r/2\\}$ ) en función al radio utilizando 3 métodos de integración.\n",
        "\n",
        "b) Obtener la solución analítica, comparar los errores de distintos métodos y detallar análisis.\n",
        "\n"
      ]
    },
    {
      "cell_type": "code",
      "execution_count": 4,
      "metadata": {
        "colab": {
          "base_uri": "https://localhost:8080/"
        },
        "id": "ov3gBG-bOmmz",
        "outputId": "26c66add-4886-42b2-b052-20b9775cd956"
      },
      "outputs": [
        {
          "name": "stdout",
          "output_type": "stream",
          "text": [
            "La carga segun método trapezoide es 1.5707004529956536\n",
            "La carga segun método simpson es 1.5707963267948963\n",
            "La carga segun método montecarlo es 1.57089292714826\n",
            "\n",
            "El campo elécrico a una distancia 1.25 del origen es 1.0052482899172184 usando el método trapezoide\n",
            "Error = 1-sol. obtenida/sol.analítica=6.138413303513612e-05\n",
            "\n",
            "El campo elécrico a una distancia 1.5 del origen es 0.6980890902202905 usando el método trapezoide\n",
            "Error = 1-sol. obtenida/sol.analítica=6.146370558779424e-05\n",
            "\n",
            "El campo elécrico a una distancia 1.25 del origen es 1.0053096491487337 usando el método simpson\n",
            "Error = 1-sol. obtenida/sol.analítica=3.489980864301856e-07\n",
            "\n",
            "El campo elécrico a una distancia 1.5 del origen es 0.6981317007977317 usando el método simpson\n",
            "Error = 1-sol. obtenida/sol.analítica=4.285754962030097e-07\n",
            "\n",
            "El campo elécrico a una distancia 1.25 del origen es 1.0053714733748864 usando el método montecarlo\n",
            "Error = 1-sol. obtenida/sol.analítica=6.114867542006408e-05\n",
            "\n",
            "El campo elécrico a una distancia 1.5 del origen es 0.6981746342881155 usando el método montecarlo\n",
            "Error = 1-sol. obtenida/sol.analítica=6.106909311642816e-05\n",
            "\n"
          ]
        }
      ],
      "source": [
        "import numpy as np\n",
        "import matplotlib.pyplot as plt\n",
        "import random as random\n",
        "\n",
        "l_0 = 1\n",
        "k = 1\n",
        "a = 1 # radio del cilindro\n",
        "# Hago 1 estos valores ya que no los proporcionaron\n",
        "x1 = 0 # límites de integración desde 0 hasta el radio del cilindro\n",
        "x2 = a # que elegimos como 1\n",
        "\n",
        "def l(r):\n",
        "    return l_0*(1-r**2/a**2)\n",
        "\n",
        "# Integrando\n",
        "def f(r):\n",
        "    return l(r)*2*np.pi*r\n",
        "\n",
        "#montecarlo\n",
        "def montecarlo(f,b):\n",
        "    n = 100 #número de subintervalos del intervalo [a, b]\n",
        "    N = 100 #número de muestras\n",
        "    x = np.zeros(n+1) #valores de x\n",
        "    h = (x2-x1)/n #tamaño del paso\n",
        "    total = 0\n",
        "    random.seed(55)\n",
        "    for i in range(n):\n",
        "        x[i+1] = x[i] + h #actualizando el valor de x\n",
        "        f_mean = 0 #initialización\n",
        "        for k in range(N): \n",
        "            x_k = random.uniform(x[i],x[i+1]) #número aleatorio dentro del subintervalo\n",
        "            f_mean += f(x_k) \n",
        "        sub_area = (h/N)*f_mean #promedio para el sub-intervalo\n",
        "        total += sub_area #promedio del intervalo\n",
        "    return total\n",
        "\n",
        "# método del trapezoide\n",
        "def int_trapezoide(f,n,x2):\n",
        "    N = 2**(n-1) # num de divisiones\n",
        "    h = (x2-x1)/N # tamaño de divisiones\n",
        "    if n == 1:\n",
        "        return 0.5*h*(f(x1)+f(x2))\n",
        "    else:\n",
        "        I = 1/2*int_trapezoide(f,n-1,x2)\n",
        "        for k in range(1,N,2):\n",
        "            I += h*f(x1+k*h)\n",
        "        return I\n",
        "\n",
        "# método de simpson\n",
        "def int_simpson(f,n,x2):\n",
        "    N = 2**(n-1) #num de divisiones\n",
        "    h = (x2-x1)/N #tamaño de las divisiones\n",
        "    def t(n):        \n",
        "        N = 2**(n-1)\n",
        "        h = (x2-x1)/N #tamaño de las divisiones\n",
        "        t = 0\n",
        "        for k in range(1,N,2):\n",
        "            t += 2/3*f(x1+k*h)\n",
        "        return t\n",
        "    def s(n):\n",
        "        if n == 1:\n",
        "            return 1/3*(f(x1)+f(x2))\n",
        "        else:\n",
        "            return s(n-1)+t(n-1)\n",
        "    return h*(s(n)+2*t(n))\n",
        "\n",
        "# tomamos k=1 y el radio del cilindro como r=1\n",
        "def E_1(d,method):\n",
        "    if method == 'trapezoide':\n",
        "        dist_carga = int_trapezoide(f,8,x2)\n",
        "    elif method == 'simpson':\n",
        "        dist_carga = int_simpson(f,8,x2)\n",
        "    elif method == 'montecarlo':\n",
        "        dist_carga = montecarlo(f,x2)\n",
        "    return k*dist_carga/d**2\n",
        "\n",
        "print(f'La carga segun método trapezoide es {int_trapezoide(f,8,x2)}')\n",
        "print(f'La carga segun método simpson es {int_simpson(f,8,x2)}')\n",
        "print(f'La carga segun método montecarlo es {montecarlo(f,x2)}\\n')\n",
        "\n",
        "\n",
        "# No entendí muy bien pero supongo que aquí se refieren a que \n",
        "# r es el radio del cilindro?\n",
        "\n",
        "# Distancia\n",
        "d = [1+1/4,1+1/2]\n",
        "# Sol analítica para distancia 1 y distancia 2\n",
        "sol_analitica = [1.00531,0.698132]\n",
        "for method in ['trapezoide','simpson','montecarlo']:\n",
        "  for i,val in enumerate(d):\n",
        "        print(f'El campo elécrico a una distancia {val} del origen es {E_1(val,method)} usando el método {method}')\n",
        "        print (f'Error = 1-sol. obtenida/sol.analítica={abs(1-E_1(val,method)/sol_analitica[i])}\\n')"
      ]
    },
    {
      "cell_type": "markdown",
      "metadata": {
        "id": "eL4s02nYDJh_"
      },
      "source": [
        "La regla del trapezoide permite calcular integrales aproximando las funciones a orden lineal en intervalos pequeños (en este caso definidos por la distancia $h$). Esto explica su nombre. Es una aproximación no muy buena porque para funciones que cambian rápidamente en intervalos pequeños puede dar errores grandes. El método de Simpson, por su parte, simplemente mejora esta idea al considerar funciones cuadráticas y no sólo lineales entre los intervalos definidos por el programa. En ambos casos se puede hacer el cálculo más preciso al incrementar el número de divisiones. Comparando los programas arriba vemos que el método de Simpson es ligeramente más complicado que la regla del trapezoide, pero no por mucho.\n",
        "\n",
        "Ha de tenerse en cuenta que nuestras integrales son sólo aproximaciones. En primer lugar, está un error de redondeo; sin embargo, es más importante el error de aproximación.  El error de la regla del trapezoide lo da la fórmula de Euler-Maclaurin, que es de orden cuadrático (y el siguiente orden es cuádrico porque los términos con $h^3$ se cancelan). Hay poco interés en hacer $h$ tan pequeño que el error de aproximación se vuelva despreciable a comparación del error de redondeo; esto sólo hace lento al programa sin mejorar la precisión. Es por eso que tenemos que ser cuidadosos al escoger $h$. Para la regla de Simspon, se llega a que el error es del orden de $h^4$, que es significativamente mejor que el caso del trapezoide. Hay casos aislados en los que la regla del trapezoide puede ser mejor que la de Simpson, por lo que es útil conocer ambos métodos.\n",
        "\n",
        "El método de Monte Carlo, por su parte, utiliza el concepto de aleatoriedad. Se toma un punto al azar, que puede caer por debajo o por encima de la curva. Si se hace esto con muchos puntos (digamos $N$) y $k$ de ellos caen debajo de la curva dentro de un rectángulo de área $A$, la integral queda aproximada por $I \\approx kA/N$. La principal desventaja de Monte Carlo es que no da resultados muy precisos, pues requiere un gran poder computaacional para ello. Sin embargo, es útil en funciones patológicas en las que aproximar a orden lineal o cuadrático no da ninguna ventaja. Para ser más específicos, el error varía con $N$ como $N^{1/2}$, de modo que la tasa de convergencia es bastante baja.\n",
        "\n",
        "Para este caso particular ya que es una función sencilla de integrar, vemos que con poco esfuerzo (i.e. pocos pasos para cada método) se llegan a resultados prácticamente iguales al analítico y entre sí. (El integrando va como $r-r^3/a^2$.) El error es más pequeño para el método Simpson —orden $10^{-7}$—, como es de esperarse por lo ya argumentado. Los errores de la regla del trapezoide y Monte Carlo son bastante similares —orden $10^{-5}$—."
      ]
    },
    {
      "cell_type": "markdown",
      "metadata": {
        "id": "lLzG05ZVOmmz"
      },
      "source": [
        "### Problema 5:"
      ]
    },
    {
      "cell_type": "markdown",
      "metadata": {
        "id": "nv5Tao_AOmm0"
      },
      "source": [
        "Considerar un aro horizontal sin rozamiento de radio R. En este aro enhebro tres objetos con masas idénticas m, y, entre los objetos, tres muelles idénticos, cada uno con una masa constante de fuerza k."
      ]
    },
    {
      "cell_type": "markdown",
      "metadata": {
        "id": "f8OO4YhlOmm0"
      },
      "source": [
        "<p align=\"center\">\n",
        "  <img src=\"https://habrastorage.org/webt/nz/qz/g4/nzqzg42gjarvpx3yk-fy0qgn20k.png\"  width=55% />\n",
        "</p>\n",
        "\n"
      ]
    },
    {
      "cell_type": "markdown",
      "metadata": {
        "id": "VtlNTfl3Omm0"
      },
      "source": [
        "Sabemos que, la energía cinética es:\n",
        "\n",
        "$$T=\\frac{1}{2}mR^2(\\dot{\\phi_1^2}+\\dot{\\phi_2^2}+\\dot{\\phi_3^2})$$\n",
        "\n",
        "y la energía potencial:\n",
        "\n",
        "$$U=\\frac{1}{2}kR^2 [(\\phi_1-\\phi_2)^2+(\\phi_2-\\phi_3)^2+(\\phi_3-\\phi_1)^2]$$"
      ]
    },
    {
      "cell_type": "markdown",
      "metadata": {
        "id": "NrIEZnEIOmm0"
      },
      "source": [
        "Resultado: Sistema de EDOs \n",
        "\n",
        "$$m\\frac{d^2\\phi_1}{dt^2}=-k(\\phi_1-\\phi_2)-k(\\phi_1-\\phi_3)$$\n",
        "\n",
        "$$m\\frac{d^2\\phi_2}{dt^2}=-k(\\phi_2-\\phi_3)-k(\\phi_2-\\phi_1)$$\n",
        "\n",
        "$$m\\frac{d^2\\phi_3}{dt^2}=-k(\\phi_3-\\phi_1)-k(\\phi_3-\\phi_2)$$\n"
      ]
    },
    {
      "cell_type": "markdown",
      "metadata": {
        "id": "59ruLNuoOmm1"
      },
      "source": [
        "a) Encontrar las ecuaciones de movimiento para cada masa usando las ecuaciones de Euler-Lagrange. *(ejemplo en PCP_sesión5.ipynb)*\n",
        "\n",
        "b) Resolver numéricamente el sistema de ecuaciones con los métodos de Euler y RK de orden 4. Para los datos: $\\phi_1=\\phi_2/2,\\quad \\phi_2=\\phi_3/2,\\quad \\phi_3=\\pi/10 \\quad $ y $\\quad \\phi_1'=1,\\quad \\phi_2'=1,\\quad \\phi_3'=1, \\quad R=m=k=1$\n",
        "\n",
        "c) Mostrar los resultados y explicar la dinámica del sistema en base al resultado de la simulación."
      ]
    },
    {
      "cell_type": "code",
      "execution_count": 5,
      "metadata": {
        "colab": {
          "base_uri": "https://localhost:8080/",
          "height": 573
        },
        "id": "hKbNsZRpOmm1",
        "outputId": "40fff081-f089-46e8-9a23-fb53f0bdbb7d"
      },
      "outputs": [
        {
          "data": {
            "image/png": "[encoded data removed]",
            "text/plain": [
              "<Figure size 432x288 with 1 Axes>"
            ]
          },
          "metadata": {
            "needs_background": "light"
          },
          "output_type": "display_data"
        },
        {
          "data": {
            "image/png": "[encoded data removed]",
            "text/plain": [
              "<Figure size 432x288 with 1 Axes>"
            ]
          },
          "metadata": {
            "needs_background": "light"
          },
          "output_type": "display_data"
        }
      ],
      "source": [
        "import numpy as np\n",
        "import matplotlib.pyplot as plt\n",
        "\n",
        "steps = 300     # número de pasos de tiempo calculados\n",
        "endtime = 4.0   # fin de la simulación\n",
        "R=m=k=1\n",
        "\n",
        "#########################################3\n",
        "#EULER\n",
        "\n",
        "# crear matrices 1D de pasos de longitud +1 para tiempo (t), posición (x), velocidad (v)\n",
        "t = np.zeros(steps+1)\n",
        "phi1 = np.zeros(steps+1)\n",
        "phi2 = np.zeros(steps+1)\n",
        "phi3 = np.zeros(steps+1)\n",
        "v1 = np.zeros(steps+1)\n",
        "v2 = np.zeros(steps+1)\n",
        "v3 = np.zeros(steps+1)\n",
        "\n",
        "# inicializar variables en el tiempo = 0.0\n",
        "phi3[0] = np.pi/10.0\n",
        "phi2[0] = phi3[0]/2\n",
        "phi1[0] = phi2[0]/2\n",
        "v1[0] = 1.0\n",
        "v2[0] = 1.0\n",
        "v3[0] = 1.0\n",
        "t[0] = 0.0\n",
        "\n",
        "dt = endtime / float(steps)\n",
        "for i in range (steps):\n",
        "   t[i+1] = t[i] + dt\n",
        "   phi1[i+1] = phi1[i] + v1[i]*dt\n",
        "   v1[i+1] = v1[i] +(-k/m*(phi1[i]-phi2[i])-k/m*(phi1[i]-phi3[i]))*dt\n",
        "   phi2[i+1] = phi2[i] + v2[i]*dt\n",
        "   v2[i+1] = v2[i] +(-k/m*(phi2[i]-phi3[i])-k/m*(phi2[i]-phi1[i]))*dt\n",
        "   phi3[i+1] = phi3[i] + v3[i]*dt\n",
        "   v3[i+1] = v3[i] +(-k/m*(phi3[i]-phi1[i])-k/m*(phi3[i]-phi2[i]))*dt\n",
        "\n",
        "plt.plot(t, phi1)\n",
        "plt.plot(t,phi2)\n",
        "plt.plot(t,phi3)\n",
        "plt.legend(['phi1','phi2','phi3'])\n",
        "plt.title('Método de Euler')\n",
        "plt.xlabel('Tiempo')\n",
        "plt.ylabel('Ángulo')\n",
        "plt.show()\n",
        "\n",
        "#########################################\n",
        "# RUNGE KUTTA\n",
        "# cambio el nombre de las variables phi_i a x,y,z para no confundirme\n",
        "def f(r,t):\n",
        "    x,y,z,X,Y,Z = tuple(r)\n",
        "    fx = X\n",
        "    fy = Y\n",
        "    fz = Z\n",
        "    fX = -k/m*(x-y)-k/m*(x-z)\n",
        "    fY = -k/m*(y-x)-k/m*(y-z)\n",
        "    fZ = -k/m*(z-x)-k/m*(z-y)\n",
        "    return np.array([fx,fy,fz,fX,fY,fZ],float)\n",
        "\n",
        "N = 200 # no. de puntos\n",
        "a = 0.0 # tiempo inicial\n",
        "b = endtime # tiempo final\n",
        "h = (b-a)/N # divisiones\n",
        "\n",
        "# inicializar variables en el tiempo = 0.0\n",
        "r = np.array([np.pi/(10*4),np.pi/(10*2),np.pi/10,1.0,1.0,1.0],float)\n",
        "phi1points = []\n",
        "phi2points = []\n",
        "phi3points = []\n",
        "tpoints = np.arange(a,b,h)\n",
        "for t in tpoints:\n",
        "    phi1points.append(r[0])\n",
        "    phi2points.append(r[1])\n",
        "    phi3points.append(r[2])\n",
        "    k1 = h*f(r,t)\n",
        "    k2 = h*f(r+1/2*k1,t+1/2*h)\n",
        "    k3 = h*f(r+1/2*k2,t+1/2*h)\n",
        "    k4 = h*f(r+k3,t+h)\n",
        "    r += 1/6*(k1+2*k2+2*k3+k4)\n",
        "\n",
        "plt.plot(tpoints,phi1points)\n",
        "plt.plot(tpoints,phi2points)\n",
        "plt.plot(tpoints,phi3points)\n",
        "plt.legend(['phi1','phi2','phi3'])\n",
        "plt.title('Método RK 4')\n",
        "plt.xlabel('Tiempo')\n",
        "plt.ylabel('Ángulo')\n",
        "plt.show()"
      ]
    },
    {
      "cell_type": "markdown",
      "metadata": {
        "id": "SGPFLO9SwXK9"
      },
      "source": [
        "Las ecuaciones de Euler Lagrange son\n",
        "$$\\frac{\\partial L}{\\partial \\phi_i}=\\frac{d}{dt}\\left(\\frac{\\partial L}{\\partial \\dot{\\phi_i}}\\right),$$\n",
        "donde el lagrangiano está dado por\n",
        "$$L=T-U=\\frac{1}{2}mR^2(\\dot{\\phi_1^2}+\\dot{\\phi_2^2}+\\dot{\\phi_3^2})-\\frac{1}{2}kR^2 [(\\phi_1-\\phi_2)^2+(\\phi_2-\\phi_3)^2+(\\phi_3-\\phi_1)^2].$$\n",
        "\n",
        "Observamos que la energía cinética es puramente función de la velocidad angular puesto que el radio es fijo.\n",
        "\n",
        "Sólo la energía cinética depende de $\\dot{\\phi_i}$ y sólo la energía potencial depende de $\\phi_i$, de donde se obtiene fácilmente que\n",
        "$$\\frac{\\partial L}{\\partial \\phi_1}=-kR^2[(\\phi_1-\\phi_2)-(\\phi_3-\\phi_1)]=-kR^2(\\phi_1-\\phi_2)-kR^2(\\phi_1-\\phi_3),$$\n",
        "y análogamente para las otras dos variables. Asimismo,\n",
        "$$\\frac{d}{dt}\\left(\\frac{\\partial L}{\\partial \\dot{\\phi_1}}\\right)=mR^2\\frac{d}{dt}(\\dot\\phi_1)=mR^2\\frac{d^2 \\phi_1}{dt^2}.$$\n",
        "\n",
        "Por tanto, la ecuación de movimiento es\n",
        "$$m\\frac{d^2\\phi_1}{dt^2}=-k(\\phi_1-\\phi_2)-k(\\phi_1-\\phi_3),$$\n",
        "y equivalentemente para $\\phi_2$ y $\\phi_3$:\n",
        "$$m\\frac{d^2\\phi_2}{dt^2}=-k(\\phi_2-\\phi_3)-k(\\phi_2-\\phi_1),$$\n",
        "$$m\\frac{d^2\\phi_3}{dt^2}=-k(\\phi_3-\\phi_1)-k(\\phi_3-\\phi_2).$$\n",
        "\n",
        "Estas ecuaciones describen la dinámica de la desviación de los ángulos $\\phi_i$ a partir de la posición de equilibrio. Inicialmente, perturbamos el sistema de manera que\n",
        "$$\\phi_3(t=0)=\\pi/10, \\quad \\phi_2(t=0)=\\pi/20, \\quad \\phi_1(t=0)=\\pi/40,$$\n",
        "i.e., que el objeto más desviado de su posición de equilibrio es el tercero, mientras que la desviación de los otros dos es igual la mitad y un cuarto respectivamente.\n",
        "\n",
        "También consideramos que las velocidades iniciales son\n",
        "$\\dot{\\phi}_i(t=0)=1$ para los tres objetos. Lo que ambos métodos indican gráficamente es que los tres objetos que conforman el sistema oscilan periódicamente alrededor de una posición de equilibrio. La amplitud del tercero es la más grande, y esto es consecuencia de que sufre la mayor desviación inicial (el sistema de ecuaciones es de hecho simétrico para las tres variables angulares, de modo que habríamos obtenido resultados análogos permutando los valores iniciales). Identificando que $\\theta +2\\pi$ equivale a $\\theta$, cada cierto tiempo el sistema regresa a la posición inicial, lo cual es resultado de la linealidad (pequeños desplazamientos desde la posición de equilibrio).\n",
        "\n",
        "Si pensamos la solución general como combinación lineal de modos tenemos:\n",
        "\n",
        "a) La primera solución es una simple rotación, es decir, no hay oscilaciones.\n",
        "b )En la segunda solución, dos masas oscilan en fase y la tercera con fase opuesta.\n",
        "c) En la tercera solución una masa es estacionaria mientras que las otras dos masas oscilan con fase opuesta."
      ]
    },
    {
      "cell_type": "markdown",
      "metadata": {
        "id": "RA2FtkarOmm1"
      },
      "source": [
        "Problema 6: (Opcional)\n",
        "\n",
        "De las sesiones brindadas, su propia experiencia y preferencias: Definir un problema a resolver con el enfoque numérico, explique a detalle cada consideración que realice y explique sus conclusiones. \n",
        "\n",
        "El problema puede ser la implementación de un modelo estándar discutido en libros de física (i.e. obtener el gráfico típico de estructura de ionización del átomo de Hidrógeno.), proyecto que esté desarrollando en su formación o complementar cálculos de las sesiones."
      ]
    },
    {
      "cell_type": "code",
      "execution_count": 6,
      "metadata": {
        "colab": {
          "base_uri": "https://localhost:8080/",
          "height": 397
        },
        "id": "C3YysC_JOmm1",
        "outputId": "73c43880-3f32-4e74-b4e0-ae88daf42875"
      },
      "outputs": [
        {
          "data": {
            "image/png": "[encoded data removed]",
            "text/plain": [
              "<Figure size 432x288 with 1 Axes>"
            ]
          },
          "metadata": {
            "needs_background": "light"
          },
          "output_type": "display_data"
        },
        {
          "data": {
            "image/png": "[encoded data removed]",
            "text/plain": [
              "<Figure size 432x288 with 1 Axes>"
            ]
          },
          "metadata": {
            "needs_background": "light"
          },
          "output_type": "display_data"
        }
      ],
      "source": [
        "from cmath import exp,sqrt,sin,pi\n",
        "import matplotlib.pyplot as plt\n",
        "from numpy import linspace,empty\n",
        "\n",
        "#d=n*pi/alpha\n",
        "slit_sep = 20 #mu m\n",
        "alpha = pi/slit_sep\n",
        "num_slits = 10\n",
        "wavelength = 0.5 #mu m\n",
        "f = 100 #cm de manera que si x se mide en cm x*u/lambda*f es adimensional\n",
        "#x en cm, u en mu m, lambda en mu m, f en cm\n",
        "#x va de -10cm a 10cm\n",
        "\n",
        "def q(u): #u se mide en mu m\n",
        "   return sin(alpha*u)**2\n",
        "\n",
        "def integrand(u,x):\n",
        "    return sqrt(q(u))*exp(1j*2*pi*x*u/(wavelength*f))\n",
        "\n",
        "# regla del trapezoide\n",
        "def int_trapezoid(f,x,n):\n",
        "    a = -(num_slits*slit_sep)/2 #numero de rendijas*separacion de rendijas/2\n",
        "    b = (num_slits*slit_sep)/2\n",
        "    N = 2**(n-1)\n",
        "    h = (b-a)/N\n",
        "    if n == 1:\n",
        "        return 0.5*h*(f(a,x)+f(b,x))\n",
        "    else:\n",
        "        I = 1/2*int_trapezoid(f,x,n-1)\n",
        "        for k in range(1,N,2):\n",
        "            I += h*f(a+k*h,x)\n",
        "        return I\n",
        "\n",
        "def I(x):\n",
        "    return abs(int_trapezoid(integrand,x,12))**2\n",
        "\n",
        "x_vals = linspace(-5,5,500)\n",
        "I_vals = list(map(I,x_vals))\n",
        "\n",
        "plt.title('Intensidad en la pantalla como función de la distancia')\n",
        "plt.xlabel('x')\n",
        "plt.ylabel('I(x)')\n",
        "plt.plot(x_vals,I_vals)\n",
        "plt.grid(True)\n",
        "plt.show()\n",
        "\n",
        "I_array = empty([100, 500], float)\n",
        "for k in range(100):\n",
        "    I_array[k, :] = I_vals\n",
        "\n",
        "plt.imshow(I_array,vmax=3000)\n",
        "plt.gray()\n",
        "plt.show()"
      ]
    },
    {
      "cell_type": "markdown",
      "metadata": {
        "id": "_AN8L4vRGuvi"
      },
      "source": [
        "Para este ejercicio libre decidí resolver el problema 5.19 del libro de Mark Newman http://www-personal.umich.edu/~mejn/cp/exercises.html\n",
        "Quisiera mencionar que estuve leyendo este libro a la par del curso y algunas cosas las tomé de ahí para resolver estos ejercicios. Por eso tal vez perciban cierta nomenclatura diferente a lo que se vio en clase.\n",
        "\n",
        "En este problema se estudia la intensidad de luz difractada sobre una pantalla como función de la distancia.\n",
        "En resumen, el problema da una función (intensidad de difracción) y pide lo siguiente: \n",
        "\n",
        "\"Use su función en un programa para calcular y graficar la intensidad del patrón de difracción producido por una rejilla que tiene diez rendijas en total, si la luz incidente tiene una longitud de onda\n",
        "$\\lambda = 500 nm$. Suponga que la lente tiene una distancia focal de 1 metro y la pantalla mide $10 cm$ (...) Cree una visualización de cómo se vería el patrón de difracción en la pantalla usando la función imshow\""
      ]
    },
    {
      "cell_type": "markdown",
      "metadata": {
        "id": "CMbTnQJKOmm2"
      },
      "source": [
        "**Por último, debe de rellenar la siguiente encuesta de satisfacción:** https://forms.gle/4WU3ovvP7gJMj8GA7 (ingresar con el correo que se inscribió)."
      ]
    },
    {
      "cell_type": "markdown",
      "metadata": {
        "id": "LmD7y2aCOmm2"
      },
      "source": [
        "Enviar sus respuestas a nuestro correo: pythonclubforphysicists@gmail.com\n",
        "\n",
        "**OJO: El correo debe de tener como asunto:**\n",
        "**\"Ejercicios_IIEVFC\"**\n",
        "\n",
        "*Caso contrario su solución puede quedar sin evaluar debido a la gran cantidad de correos.*"
      ]
    },
    {
      "cell_type": "markdown",
      "metadata": {
        "id": "6ucKfX5Q-7Ga"
      },
      "source": [
        "\n",
        "## Donaciones\n",
        "<br>\n",
        "<center>\n",
        "Puedes donar una vez en el siguiente enlace (Ko-Fi):\n",
        "\n",
        "<br>\n",
        "    \n",
        "*Click en la imagen.*\n",
        "\n",
        "<a href=\"https://ko-fi.com/rcrdphysics\">\n",
        "<img src=\"https://habrastorage.org/webt/8r/ml/xf/8rmlxfpdzukegpxa62cxlfvgkqe.png\" width=20% />\n",
        "\n",
        "</center>"
      ]
    }
  ],
  "metadata": {
    "colab": {
      "collapsed_sections": [],
      "name": "Copia de Ejercicios_IIEVFC.ipynb",
      "provenance": []
    },
    "interpreter": {
      "hash": "b227a5a74a4b15a27a68108b04370906cedb0fa979dfe90452a198bd1f9dc829"
    },
    "kernelspec": {
      "display_name": "Python 3.7.5 64-bit",
      "language": "python",
      "name": "python3"
    },
    "language_info": {
      "codemirror_mode": {
        "name": "ipython",
        "version": 3
      },
      "file_extension": ".py",
      "mimetype": "text/x-python",
      "name": "python",
      "nbconvert_exporter": "python",
      "pygments_lexer": "ipython3",
      "version": "3.7.5"
    },
    "metadata": {
      "interpreter": {
        "hash": "b227a5a74a4b15a27a68108b04370906cedb0fa979dfe90452a198bd1f9dc829"
      }
    }
  },
  "nbformat": 4,
  "nbformat_minor": 0
}
